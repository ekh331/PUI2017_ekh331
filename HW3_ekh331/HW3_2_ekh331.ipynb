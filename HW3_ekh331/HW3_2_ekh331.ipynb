{
 "cells": [
  {
   "cell_type": "code",
   "execution_count": 61,
   "metadata": {
    "collapsed": true
   },
   "outputs": [],
   "source": [
    "import csv\n",
    "import os\n",
    "import pandas as pd\n",
    "import numpy as np\n",
    "import matplotlib.pyplot as plt"
   ]
  },
  {
   "cell_type": "code",
   "execution_count": 62,
   "metadata": {
    "collapsed": false
   },
   "outputs": [
    {
     "name": "stdout",
     "output_type": "stream",
     "text": [
      "--2017-10-04 23:36:13--  https://s3.amazonaws.com/tripdata/201512-citibike-tripdata.zip\n",
      "Resolving s3.amazonaws.com... 54.231.49.43\n",
      "Connecting to s3.amazonaws.com|54.231.49.43|:443... connected.\n",
      "HTTP request sent, awaiting response... 200 OK\n",
      "Length: 23145783 (22M) [application/zip]\n",
      "Saving to: “STDOUT”\n",
      "\n",
      "100%[======================================>] 23,145,783  35.2M/s   in 0.6s    \n",
      "\n",
      "2017-10-04 23:36:14 (35.2 MB/s) - written to stdout [23145783/23145783]\n",
      "\n"
     ]
    }
   ],
   "source": [
    "!wget -O - 'https://s3.amazonaws.com/tripdata/201512-citibike-tripdata.zip' > 'data.zip'"
   ]
  },
  {
   "cell_type": "code",
   "execution_count": 63,
   "metadata": {
    "collapsed": false
   },
   "outputs": [],
   "source": [
    "import zipfile\n",
    "\n",
    "zip_ref = zipfile.ZipFile('data.zip', 'r')\n",
    "zip_ref.extractall()"
   ]
  },
  {
   "cell_type": "code",
   "execution_count": 67,
   "metadata": {
    "collapsed": false
   },
   "outputs": [],
   "source": [
    "real_df = pd.read_csv('201512-citibike-tripdata.csv')\n",
    "\n",
    "df = real_df\n"
   ]
  },
  {
   "cell_type": "code",
   "execution_count": null,
   "metadata": {
    "collapsed": false
   },
   "outputs": [],
   "source": []
  },
  {
   "cell_type": "code",
   "execution_count": 68,
   "metadata": {
    "collapsed": false
   },
   "outputs": [
    {
     "data": {
      "text/html": [
       "<div>\n",
       "<table border=\"1\" class=\"dataframe\">\n",
       "  <thead>\n",
       "    <tr style=\"text-align: right;\">\n",
       "      <th></th>\n",
       "      <th>tripduration</th>\n",
       "      <th>starttime</th>\n",
       "      <th>stoptime</th>\n",
       "      <th>start station id</th>\n",
       "      <th>start station name</th>\n",
       "      <th>start station latitude</th>\n",
       "      <th>start station longitude</th>\n",
       "      <th>end station id</th>\n",
       "      <th>end station name</th>\n",
       "      <th>end station latitude</th>\n",
       "      <th>end station longitude</th>\n",
       "      <th>bikeid</th>\n",
       "      <th>usertype</th>\n",
       "      <th>birth year</th>\n",
       "      <th>gender</th>\n",
       "    </tr>\n",
       "  </thead>\n",
       "  <tbody>\n",
       "    <tr>\n",
       "      <th>0</th>\n",
       "      <td>475</td>\n",
       "      <td>12/1/2015 07:35:36</td>\n",
       "      <td>12/1/2015 07:43:32</td>\n",
       "      <td>72</td>\n",
       "      <td>W 52 St &amp; 11 Ave</td>\n",
       "      <td>40.767272</td>\n",
       "      <td>-73.993929</td>\n",
       "      <td>173</td>\n",
       "      <td>Broadway &amp; W 49 St</td>\n",
       "      <td>40.760647</td>\n",
       "      <td>-73.984427</td>\n",
       "      <td>22780</td>\n",
       "      <td>Subscriber</td>\n",
       "      <td>1983.0</td>\n",
       "      <td>1</td>\n",
       "    </tr>\n",
       "    <tr>\n",
       "      <th>1</th>\n",
       "      <td>684</td>\n",
       "      <td>12/1/2015 07:38:15</td>\n",
       "      <td>12/1/2015 07:49:39</td>\n",
       "      <td>72</td>\n",
       "      <td>W 52 St &amp; 11 Ave</td>\n",
       "      <td>40.767272</td>\n",
       "      <td>-73.993929</td>\n",
       "      <td>520</td>\n",
       "      <td>W 52 St &amp; 5 Ave</td>\n",
       "      <td>40.759923</td>\n",
       "      <td>-73.976485</td>\n",
       "      <td>17787</td>\n",
       "      <td>Subscriber</td>\n",
       "      <td>1975.0</td>\n",
       "      <td>1</td>\n",
       "    </tr>\n",
       "    <tr>\n",
       "      <th>2</th>\n",
       "      <td>1063</td>\n",
       "      <td>12/1/2015 07:44:49</td>\n",
       "      <td>12/1/2015 08:02:33</td>\n",
       "      <td>72</td>\n",
       "      <td>W 52 St &amp; 11 Ave</td>\n",
       "      <td>40.767272</td>\n",
       "      <td>-73.993929</td>\n",
       "      <td>358</td>\n",
       "      <td>Christopher St &amp; Greenwich St</td>\n",
       "      <td>40.732916</td>\n",
       "      <td>-74.007114</td>\n",
       "      <td>18797</td>\n",
       "      <td>Subscriber</td>\n",
       "      <td>1966.0</td>\n",
       "      <td>1</td>\n",
       "    </tr>\n",
       "    <tr>\n",
       "      <th>3</th>\n",
       "      <td>1075</td>\n",
       "      <td>12/1/2015 08:02:29</td>\n",
       "      <td>12/1/2015 08:20:24</td>\n",
       "      <td>72</td>\n",
       "      <td>W 52 St &amp; 11 Ave</td>\n",
       "      <td>40.767272</td>\n",
       "      <td>-73.993929</td>\n",
       "      <td>505</td>\n",
       "      <td>6 Ave &amp; W 33 St</td>\n",
       "      <td>40.749013</td>\n",
       "      <td>-73.988484</td>\n",
       "      <td>14625</td>\n",
       "      <td>Subscriber</td>\n",
       "      <td>1985.0</td>\n",
       "      <td>1</td>\n",
       "    </tr>\n",
       "    <tr>\n",
       "      <th>4</th>\n",
       "      <td>293</td>\n",
       "      <td>12/1/2015 08:06:37</td>\n",
       "      <td>12/1/2015 08:11:30</td>\n",
       "      <td>72</td>\n",
       "      <td>W 52 St &amp; 11 Ave</td>\n",
       "      <td>40.767272</td>\n",
       "      <td>-73.993929</td>\n",
       "      <td>525</td>\n",
       "      <td>W 34 St &amp; 11 Ave</td>\n",
       "      <td>40.755942</td>\n",
       "      <td>-74.002116</td>\n",
       "      <td>21238</td>\n",
       "      <td>Subscriber</td>\n",
       "      <td>1968.0</td>\n",
       "      <td>1</td>\n",
       "    </tr>\n",
       "  </tbody>\n",
       "</table>\n",
       "</div>"
      ],
      "text/plain": [
       "   tripduration           starttime            stoptime  start station id  \\\n",
       "0           475  12/1/2015 07:35:36  12/1/2015 07:43:32                72   \n",
       "1           684  12/1/2015 07:38:15  12/1/2015 07:49:39                72   \n",
       "2          1063  12/1/2015 07:44:49  12/1/2015 08:02:33                72   \n",
       "3          1075  12/1/2015 08:02:29  12/1/2015 08:20:24                72   \n",
       "4           293  12/1/2015 08:06:37  12/1/2015 08:11:30                72   \n",
       "\n",
       "  start station name  start station latitude  start station longitude  \\\n",
       "0   W 52 St & 11 Ave               40.767272               -73.993929   \n",
       "1   W 52 St & 11 Ave               40.767272               -73.993929   \n",
       "2   W 52 St & 11 Ave               40.767272               -73.993929   \n",
       "3   W 52 St & 11 Ave               40.767272               -73.993929   \n",
       "4   W 52 St & 11 Ave               40.767272               -73.993929   \n",
       "\n",
       "   end station id               end station name  end station latitude  \\\n",
       "0             173             Broadway & W 49 St             40.760647   \n",
       "1             520                W 52 St & 5 Ave             40.759923   \n",
       "2             358  Christopher St & Greenwich St             40.732916   \n",
       "3             505                6 Ave & W 33 St             40.749013   \n",
       "4             525               W 34 St & 11 Ave             40.755942   \n",
       "\n",
       "   end station longitude  bikeid    usertype  birth year  gender  \n",
       "0             -73.984427   22780  Subscriber      1983.0       1  \n",
       "1             -73.976485   17787  Subscriber      1975.0       1  \n",
       "2             -74.007114   18797  Subscriber      1966.0       1  \n",
       "3             -73.988484   14625  Subscriber      1985.0       1  \n",
       "4             -74.002116   21238  Subscriber      1968.0       1  "
      ]
     },
     "execution_count": 68,
     "metadata": {},
     "output_type": "execute_result"
    }
   ],
   "source": [
    "df.head()"
   ]
  },
  {
   "cell_type": "markdown",
   "metadata": {},
   "source": [
    "# Idea: Customers are more likely than Subscribers to have longer bike trips.\n",
    "<p>\n",
    "<p>\n",
    "# Null Hypothesis: \n",
    "## The average trip duration of subscribers is the same or greater than the average trip duration of customers.\n",
    "\n",
    "\n",
    "${S_{\\mathrm{duration}}} >= {T_{\\mathrm{duration}}} $\n",
    "<p>\n",
    "\n",
    "# Alternative Hypothesis:\n",
    "## The average trip duration of subscribers is less than the average trip duration of customers.\n",
    "\n",
    "${S_{\\mathrm{duration}}} < {T_{\\mathrm{duration}}} $\n",
    "<p>\n",
    "\n",
    "<p>\n",
    "\n",
    "\n",
    "# Significance level alpha = 0.05\n",
    "\n",
    "<p>\n",
    "\n",
    "# The data month is December 2015.\n",
    "\n"
   ]
  },
  {
   "cell_type": "code",
   "execution_count": 69,
   "metadata": {
    "collapsed": false
   },
   "outputs": [
    {
     "data": {
      "text/plain": [
       "Index(['tripduration', 'starttime', 'stoptime', 'start station id',\n",
       "       'start station name', 'start station latitude',\n",
       "       'start station longitude', 'end station id', 'end station name',\n",
       "       'end station latitude', 'end station longitude', 'bikeid', 'usertype',\n",
       "       'birth year', 'gender'],\n",
       "      dtype='object')"
      ]
     },
     "execution_count": 69,
     "metadata": {},
     "output_type": "execute_result"
    }
   ],
   "source": [
    "df.columns\n",
    "\n",
    "# Now we need to separate out 'usertype' and 'date', continued..."
   ]
  },
  {
   "cell_type": "code",
   "execution_count": 71,
   "metadata": {
    "collapsed": false
   },
   "outputs": [],
   "source": [
    "df.drop(['starttime', 'stoptime', 'start station id',\n",
    "       'start station name', 'start station latitude',\n",
    "       'start station longitude', 'end station id', 'end station name',\n",
    "       'end station latitude', 'end station longitude', 'bikeid',\n",
    "       'birth year', 'gender'], axis=1, inplace=True)"
   ]
  },
  {
   "cell_type": "code",
   "execution_count": 72,
   "metadata": {
    "collapsed": false
   },
   "outputs": [
    {
     "data": {
      "text/html": [
       "<div>\n",
       "<table border=\"1\" class=\"dataframe\">\n",
       "  <thead>\n",
       "    <tr style=\"text-align: right;\">\n",
       "      <th></th>\n",
       "      <th>tripduration</th>\n",
       "      <th>usertype</th>\n",
       "    </tr>\n",
       "  </thead>\n",
       "  <tbody>\n",
       "    <tr>\n",
       "      <th>0</th>\n",
       "      <td>475</td>\n",
       "      <td>Subscriber</td>\n",
       "    </tr>\n",
       "    <tr>\n",
       "      <th>1</th>\n",
       "      <td>684</td>\n",
       "      <td>Subscriber</td>\n",
       "    </tr>\n",
       "    <tr>\n",
       "      <th>2</th>\n",
       "      <td>1063</td>\n",
       "      <td>Subscriber</td>\n",
       "    </tr>\n",
       "    <tr>\n",
       "      <th>3</th>\n",
       "      <td>1075</td>\n",
       "      <td>Subscriber</td>\n",
       "    </tr>\n",
       "    <tr>\n",
       "      <th>4</th>\n",
       "      <td>293</td>\n",
       "      <td>Subscriber</td>\n",
       "    </tr>\n",
       "  </tbody>\n",
       "</table>\n",
       "</div>"
      ],
      "text/plain": [
       "   tripduration    usertype\n",
       "0           475  Subscriber\n",
       "1           684  Subscriber\n",
       "2          1063  Subscriber\n",
       "3          1075  Subscriber\n",
       "4           293  Subscriber"
      ]
     },
     "execution_count": 72,
     "metadata": {},
     "output_type": "execute_result"
    }
   ],
   "source": [
    "df.head()"
   ]
  },
  {
   "cell_type": "code",
   "execution_count": 73,
   "metadata": {
    "collapsed": false
   },
   "outputs": [],
   "source": [
    "# Now to separate subscribers from customers\n",
    "\n",
    "#groups = df.groupby(['usertype', 'starttime'].mean())"
   ]
  },
  {
   "cell_type": "code",
   "execution_count": 74,
   "metadata": {
    "collapsed": false
   },
   "outputs": [
    {
     "name": "stdout",
     "output_type": "stream",
     "text": [
      "(804125, 2)\n",
      "797.317738045\n",
      "(67877, 2)\n",
      "2555.30983986\n"
     ]
    }
   ],
   "source": [
    "print(df.shape)\n",
    "\n",
    "subscribers = df[df['usertype'] == 'Subscriber']\n",
    "print(np.mean(subscribers['tripduration']))\n",
    "everyoneelse = df[df['usertype'] != 'Subscriber']\n",
    "print(everyoneelse.shape)\n",
    "print(np.mean(everyoneelse['tripduration']))\n",
    "\n",
    "subscriber_avg = np.mean(subscribers['tripduration'])\n",
    "customer_avg = np.mean(everyoneelse['tripduration'])"
   ]
  },
  {
   "cell_type": "code",
   "execution_count": 75,
   "metadata": {
    "collapsed": false
   },
   "outputs": [
    {
     "data": {
      "image/png": "[encoded data removed]",
      "text/plain": [
       "<matplotlib.figure.Figure at 0x7f16d496d0f0>"
      ]
     },
     "metadata": {},
     "output_type": "display_data"
    }
   ],
   "source": [
    "#plot the averages\n",
    "\n",
    "plt.bar(0, align='edge', height=subscriber_avg)\n",
    "plt.bar(0.8,align='edge', height=customer_avg)\n",
    "plt.ylabel('Average trip duration')\n",
    "plt.xlabel('CitiBike rider type (Blue = Subscriber, Orange = Customer)')\n",
    "plt.title('Average Trip duration of CitiBike Rider Types')\n",
    "plt.show()"
   ]
  },
  {
   "cell_type": "markdown",
   "metadata": {},
   "source": [
    "## Figure 1: A bar plot showing the average trip durations of CitiBike subscribers (left) versus CitiBike customers (right). Customers show a significantly longer average trip duration."
   ]
  },
  {
   "cell_type": "code",
   "execution_count": null,
   "metadata": {
    "collapsed": true
   },
   "outputs": [],
   "source": []
  }
 ],
 "metadata": {
  "kernelspec": {
   "display_name": "PUI2016_Python3",
   "language": "python",
   "name": "pui2016_python3"
  },
  "language_info": {
   "codemirror_mode": {
    "name": "ipython",
    "version": 3
   },
   "file_extension": ".py",
   "mimetype": "text/x-python",
   "name": "python",
   "nbconvert_exporter": "python",
   "pygments_lexer": "ipython3",
   "version": "3.5.4"
  }
 },
 "nbformat": 4,
 "nbformat_minor": 0
}
