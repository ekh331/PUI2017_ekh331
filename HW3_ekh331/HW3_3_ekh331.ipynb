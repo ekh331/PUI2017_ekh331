{
 "cells": [
  {
   "cell_type": "markdown",
   "metadata": {
    "collapsed": true
   },
   "source": [
    "# Continuation of the z-test lab: tracking bus route completion times\n",
    "\n",
    "# Is the new bus route faster than the old bus route?\n",
    "\n",
    "\n",
    "\n",
    "# Null Hypothesis: The average new bus route time is the same length or longer than the old bus route time.\n",
    "\n",
    "${T_{\\mathrm{new}}} >= {T_{\\mathrm{old}}} $\n",
    "\n",
    "# Alternative Hypothesis: The average new bus route time is less than the old bus route time.\n",
    "\n",
    "${T_{\\mathrm{new}}} < {T_{\\mathrm{old}}} $"
   ]
  },
  {
   "cell_type": "code",
   "execution_count": 25,
   "metadata": {
    "collapsed": false
   },
   "outputs": [
    {
     "name": "stdout",
     "output_type": "stream",
     "text": [
      "Populating the interactive namespace from numpy and matplotlib\n"
     ]
    },
    {
     "name": "stderr",
     "output_type": "stream",
     "text": [
      "/opt/rh/anaconda/root/envs/PUI2016_Python3/lib/python3.5/site-packages/IPython/core/magics/pylab.py:161: UserWarning: pylab import has clobbered these variables: ['size']\n",
      "`%matplotlib` prevents importing * from pylab and numpy\n",
      "  \"\\n`%matplotlib` prevents importing * from pylab and numpy\"\n"
     ]
    }
   ],
   "source": [
    "import pandas as pd\n",
    "import numpy as np\n",
    "import matplotlib.pyplot as plt\n",
    "%pylab inline\n",
    "\n",
    "\n"
   ]
  },
  {
   "cell_type": "code",
   "execution_count": 26,
   "metadata": {
    "collapsed": false
   },
   "outputs": [
    {
     "data": {
      "image/png": "[encoded data removed]",
      "text/plain": [
       "<matplotlib.figure.Figure at 0x7fb631523780>"
      ]
     },
     "metadata": {},
     "output_type": "display_data"
    }
   ],
   "source": [
    "#The old commute time is known . Mean 36, std 6\n",
    "# So to model this, let's make a random distribution\n",
    "#with those characteristics.\n",
    "\n",
    "np.random.seed(4)\n",
    "old_commute = np.random.normal(36,6,100)\n",
    "plt.hist(old_commute)\n",
    "old_mean = 36\n",
    "old_std = 6"
   ]
  },
  {
   "cell_type": "code",
   "execution_count": 27,
   "metadata": {
    "collapsed": true
   },
   "outputs": [],
   "source": [
    "#Now we consider the new commute, downloaded from online\n",
    "\n",
    "new_commute = pd.read_csv('https://raw.githubusercontent.com/fedhere/PUI2017_fb55/master/Lab3_fb55/times.txt', header=None).values.squeeze()\n",
    "\n"
   ]
  },
  {
   "cell_type": "code",
   "execution_count": 28,
   "metadata": {
    "collapsed": false
   },
   "outputs": [
    {
     "name": "stdout",
     "output_type": "stream",
     "text": [
      "[ 31.62223931  32.82137636  30.2291014   31.41376587  39.01055035\n",
      "  34.82207891  39.87188366  39.57994562  31.02658678  27.66246068\n",
      "  18.8752884   46.2313731   30.01522604  47.6004104   16.52726666\n",
      "  42.4462331   33.62527449  42.28462558  46.20520667  30.87517392\n",
      "  32.94800341  26.17691512  31.25699649  35.33644554  35.64072501\n",
      "  40.32297174  38.04348588  29.4579793   23.91636367  34.56403521\n",
      "  45.42782464  38.95607754  39.11396748  39.67398759  31.89148105\n",
      "  22.62379325  26.18910408  43.54114213  33.2607386   31.67602384\n",
      "  37.12846259  38.22048496  34.38814185  36.11407371  44.08064814\n",
      "  29.59917161  37.02411751  41.60576556  44.37860528  38.06471077\n",
      "  22.90526456  40.27182857  31.57979239  25.88037795  28.8913048\n",
      "  44.33687925  36.78948684  43.46098875  40.65557     26.16634004\n",
      "  25.13884784  33.01581456  32.87050073  26.28557154  39.44933037\n",
      "  36.25528612  40.719133    40.57181545  19.87166413  43.21925286\n",
      "  31.48102823  37.14915056  38.991504    20.53059384  27.80447692\n",
      "  38.69933298  30.0223142   38.64884169  26.40668884  32.10224978\n",
      "  28.31532754  43.26195884  40.3609407   37.3025258   31.45110181\n",
      "  38.79599524  36.92553372  32.37167945  23.25835631  26.42613261\n",
      "  48.74987653  31.42512354  46.80679298  30.59748648  20.7926322\n",
      "  26.19785226  42.7274097   33.7314695   37.23859057  36.33984141]\n",
      "100\n",
      "34.4661616883\n"
     ]
    }
   ],
   "source": [
    "print(new_commute)\n",
    "print(len(new_commute))\n",
    "\n",
    "size = len(new_commute)\n",
    "new_mean = np.mean(new_commute)\n",
    "print(new_mean)"
   ]
  },
  {
   "cell_type": "code",
   "execution_count": 29,
   "metadata": {
    "collapsed": false
   },
   "outputs": [
    {
     "name": "stdout",
     "output_type": "stream",
     "text": [
      "2.55639718617\n",
      "34.199999999999996\n",
      "37.800000000000004\n"
     ]
    },
    {
     "data": {
      "text/plain": [
       "1.8"
      ]
     },
     "execution_count": 29,
     "metadata": {},
     "output_type": "execute_result"
    }
   ],
   "source": [
    "# Z = \\frac{\\mu_{pop} - \\mu_{sample}}{\\sigma / \\sqrt{N}}\n",
    "\n",
    "z_score = (old_mean - new_mean) / (old_std / sqrt(size))\n",
    "print(z_score)\n",
    "\n",
    "print(0.95*old_mean)\n",
    "print(1.05*old_mean)\n",
    "0.05*old_mean"
   ]
  },
  {
   "cell_type": "markdown",
   "metadata": {},
   "source": [
    "# Results\n",
    "\n",
    "## The z statistic was calculated from the formula to be 2.56.\n",
    "\n",
    "## Alpha is 0.05, or +/- 5% of the old commute average time. For the old average of 36, this means that alpha is 1.8.\n",
    "\n",
    "## Z = 2.56 > 1.8, which means that we can reject the null hypothesis.\n",
    "\n",
    "## This means that the new bus route average travel time is significantly shorter than the old bus route average travel time.\n",
    "\n"
   ]
  },
  {
   "cell_type": "code",
   "execution_count": null,
   "metadata": {
    "collapsed": true
   },
   "outputs": [],
   "source": []
  }
 ],
 "metadata": {
  "kernelspec": {
   "display_name": "PUI2016_Python3",
   "language": "python",
   "name": "pui2016_python3"
  },
  "language_info": {
   "codemirror_mode": {
    "name": "ipython",
    "version": 3
   },
   "file_extension": ".py",
   "mimetype": "text/x-python",
   "name": "python",
   "nbconvert_exporter": "python",
   "pygments_lexer": "ipython3",
   "version": "3.5.4"
  }
 },
 "nbformat": 4,
 "nbformat_minor": 0
}
