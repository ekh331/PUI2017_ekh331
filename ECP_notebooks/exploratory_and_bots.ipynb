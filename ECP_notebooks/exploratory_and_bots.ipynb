{
 "cells": [
  {
   "cell_type": "markdown",
   "metadata": {},
   "source": [
    "## WiFi Data Exploration, bot cleaning\n",
    "\n",
    "## NOTE: Cells referencing or visualizing dataframe rows have been removed to protect confidentiality of client devices and their addresses\n",
    "\n",
    "To the extent that this can be written in a reproducible fashion, it is. However, due to the nature of the data, which cannot be publicized, this code downloaded as-is will not run."
   ]
  },
  {
   "cell_type": "code",
   "execution_count": 2,
   "metadata": {},
   "outputs": [
    {
     "name": "stdout",
     "output_type": "stream",
     "text": [
      "Populating the interactive namespace from numpy and matplotlib\n"
     ]
    },
    {
     "name": "stderr",
     "output_type": "stream",
     "text": [
      "/opt/rh/anaconda/root/envs/PUI2016_Python2/lib/python2.7/site-packages/IPython/core/magics/pylab.py:161: UserWarning: pylab import has clobbered these variables: ['plt']\n",
      "`%matplotlib` prevents importing * from pylab and numpy\n",
      "  \"\\n`%matplotlib` prevents importing * from pylab and numpy\"\n"
     ]
    }
   ],
   "source": [
    "import csv\n",
    "import urllib2\n",
    "import matplotlib.pylab as plt\n",
    "%pylab inline\n",
    "import numpy as np\n",
    "import pandas as pd\n",
    "from scipy.stats import norm\n",
    "from pandas import Series, DataFrame,Panel"
   ]
  },
  {
   "cell_type": "code",
   "execution_count": 8,
   "metadata": {},
   "outputs": [],
   "source": [
    "import datetime as dt"
   ]
  },
  {
   "cell_type": "code",
   "execution_count": 3,
   "metadata": {},
   "outputs": [],
   "source": [
    "real_df = pd.read_csv('sample_day.csv')\n",
    "\n",
    "df = real_df"
   ]
  },
  {
   "cell_type": "code",
   "execution_count": 4,
   "metadata": {},
   "outputs": [],
   "source": [
    "#dataframes of clients who are and are not associated with a network they ping\n",
    "dff = (df.loc[df['is_associated'] == False])\n",
    "dft = (df.loc[df['is_associated'] == True])"
   ]
  },
  {
   "cell_type": "code",
   "execution_count": 10,
   "metadata": {},
   "outputs": [],
   "source": [
    "df['last_seen_dt'] = pd.to_datetime(df['last_seen'].apply(lambda s: s.split(\".\")[0] + \" 2017\"),\n",
    "                                    format=\"%a %b %d %H:%M:%S %Y\")\n"
   ]
  },
  {
   "cell_type": "markdown",
   "metadata": {},
   "source": [
    "## Determine which client addresses are universal vs local"
   ]
  },
  {
   "cell_type": "code",
   "execution_count": 5,
   "metadata": {},
   "outputs": [],
   "source": [
    "def is_universal(mac_addr):\n",
    "    \"\"\" Given a MAC address, returns boolean regarding whether the second-least significant digit in first octet is 0\"\"\"\n",
    "    return mac_addr[1] in '014589cd'"
   ]
  },
  {
   "cell_type": "code",
   "execution_count": 6,
   "metadata": {},
   "outputs": [],
   "source": [
    "df['is_uni'] = df['client_mac'].apply(is_universal)"
   ]
  },
  {
   "cell_type": "code",
   "execution_count": 14,
   "metadata": {},
   "outputs": [
    {
     "name": "stdout",
     "output_type": "stream",
     "text": [
      "{'8': 613154, 'c': 812044, '4': 645958, '0': 899549}\n"
     ]
    }
   ],
   "source": [
    "second_to_last_digits = {}\n",
    "for addr in df['client_mac']:\n",
    "    k = addr[1]\n",
    "    second_to_last_digits[k] = second_to_last_digits.get(k, 0) + 1\n",
    "    \n",
    "print(second_to_last_digits)"
   ]
  },
  {
   "cell_type": "code",
   "execution_count": 15,
   "metadata": {},
   "outputs": [],
   "source": [
    "# Focusing on universal MAC addresses only\n",
    "universal_macs = (df.loc[df['is_uni'] == True])"
   ]
  },
  {
   "cell_type": "code",
   "execution_count": 16,
   "metadata": {},
   "outputs": [
    {
     "name": "stdout",
     "output_type": "stream",
     "text": [
      "(2970705, 7)\n",
      "(2970705, 7)\n"
     ]
    }
   ],
   "source": [
    "universal_macs.head(5)\n",
    "print universal_macs.shape\n",
    "print df.shape\n",
    "\n",
    "#All MACs are universal"
   ]
  },
  {
   "cell_type": "code",
   "execution_count": 17,
   "metadata": {},
   "outputs": [
    {
     "data": {
      "image/png": "[encoded data removed]",
      "text/plain": [
       "<matplotlib.figure.Figure at 0x7fec10e38310>"
      ]
     },
     "metadata": {},
     "output_type": "display_data"
    },
    {
     "data": {
      "image/png": "[encoded data removed]",
      "text/plain": [
       "<matplotlib.figure.Figure at 0x7fec10dfb850>"
      ]
     },
     "metadata": {},
     "output_type": "display_data"
    }
   ],
   "source": [
    "#Plot of Connected RSSI Values\n",
    "\n",
    "plt.hist(dft['rssi'])\n",
    "plt.title('Associated RSSI Distribution')\n",
    "plt.xlabel('RSSI')\n",
    "plt.ylabel('Frequency')\n",
    "plt.show()\n",
    "\n",
    "plt.hist(dff['rssi'], color='red')\n",
    "plt.title('Unassociated RSSI Distribution')\n",
    "plt.xlabel('RSSI')\n",
    "plt.ylabel('Frequency')\n",
    "plt.show()"
   ]
  },
  {
   "cell_type": "code",
   "execution_count": 18,
   "metadata": {},
   "outputs": [
    {
     "data": {
      "image/png": "[encoded data removed]",
      "text/plain": [
       "<matplotlib.figure.Figure at 0x7fec15946a10>"
      ]
     },
     "metadata": {},
     "output_type": "display_data"
    }
   ],
   "source": [
    "#Plot them together\n",
    "plt.hist(dft['rssi'])\n",
    "plt.hist(dff['rssi'], color='red', alpha=0.5)\n",
    "plt.show()"
   ]
  },
  {
   "cell_type": "code",
   "execution_count": 19,
   "metadata": {},
   "outputs": [
    {
     "name": "stdout",
     "output_type": "stream",
     "text": [
      "Total pings today: 2970705\n",
      "Number of associated pings today: 66399\n",
      "Number of unassociated pings today: 2904306\n",
      "Associated pings make up 0 percent of the total pings\n",
      "Average associated RSSI: 18.6252353198\n",
      "Average unassociated RSSI: 15.8741155374\n"
     ]
    }
   ],
   "source": [
    "total_pings = (len(dft.index) + len(dff.index))\n",
    "assc_pings = len(dft.index)\n",
    "unassc_pings = len(dff.index)\n",
    "print('Total pings today: %s' % total_pings)\n",
    "print('Number of associated pings today: %s' % assc_pings)\n",
    "print('Number of unassociated pings today: %s' % unassc_pings)\n",
    "print('Associated pings make up %s percent of the total pings' % ((assc_pings/total_pings)*100))\n",
    "\n",
    "assc_mean = np.mean(dft['rssi'])\n",
    "unassc_mean = np.mean(dff['rssi'])\n",
    "print('Average associated RSSI: %s' % assc_mean)\n",
    "print('Average unassociated RSSI: %s' % unassc_mean)\n",
    "\n",
    "\n"
   ]
  },
  {
   "cell_type": "code",
   "execution_count": 7,
   "metadata": {},
   "outputs": [],
   "source": [
    "groups = df.groupby([df['client_mac'], df['ap_mac']]).size()\n",
    "#will display all the APs sorted by which client accessed them, and the number of times the AP was accessed by the client"
   ]
  },
  {
   "cell_type": "markdown",
   "metadata": {},
   "source": [
    "## Exploring vendor representation in the data"
   ]
  },
  {
   "cell_type": "code",
   "execution_count": 24,
   "metadata": {},
   "outputs": [
    {
     "name": "stdout",
     "output_type": "stream",
     "text": [
      "1963\n"
     ]
    },
    {
     "name": "stderr",
     "output_type": "stream",
     "text": [
      "/opt/rh/anaconda/root/envs/PUI2016_Python2/lib/python2.7/site-packages/ipykernel/__main__.py:4: SettingWithCopyWarning: \n",
      "A value is trying to be set on a copy of a slice from a DataFrame.\n",
      "Try using .loc[row_indexer,col_indexer] = value instead\n",
      "\n",
      "See the caveats in the documentation: http://pandas.pydata.org/pandas-docs/stable/indexing.html#indexing-view-versus-copy\n"
     ]
    }
   ],
   "source": [
    "bots = (grouped.loc[grouped['ap_mac'] == 1])\n",
    "bots.head(5)\n",
    "bots.shape\n",
    "bots['vendor_bit'] = bots['client_mac'].str[:8]\n",
    "bots.head(5)\n",
    "bot_vendors = bots['vendor_bit'].nunique()\n",
    "print(bot_vendors)"
   ]
  },
  {
   "cell_type": "code",
   "execution_count": 26,
   "metadata": {},
   "outputs": [
    {
     "data": {
      "text/plain": [
       "(150769, 2)"
      ]
     },
     "execution_count": 26,
     "metadata": {},
     "output_type": "execute_result"
    }
   ],
   "source": [
    "#The following removes all client mac addresses that only ever accessed one unique AP during the day.. and we lose about\n",
    "# 80k clients this way.\n",
    "\n",
    "tossed_bots = (grouped.loc[grouped['ap_mac'] > 1])\n",
    "tossed_bots.shape"
   ]
  },
  {
   "cell_type": "code",
   "execution_count": 28,
   "metadata": {},
   "outputs": [
    {
     "name": "stdout",
     "output_type": "stream",
     "text": [
      "2095\n"
     ]
    }
   ],
   "source": [
    "individual_vendors = tossed_bots['vendor_bit'].nunique()\n",
    "print(individual_vendors)"
   ]
  },
  {
   "cell_type": "code",
   "execution_count": 31,
   "metadata": {},
   "outputs": [],
   "source": [
    "def identify_vendor(mac_addr):\n",
    "    api_url = \"http://api.macvendors.com/%s\" % mac_addr\n",
    "    f = urllib2.urlopen(api_url)\n",
    "    response = f.read()\n",
    "    return response"
   ]
  },
  {
   "cell_type": "code",
   "execution_count": 36,
   "metadata": {},
   "outputs": [
    {
     "data": {
      "text/plain": [
       "'Apple, Inc.'"
      ]
     },
     "execution_count": 36,
     "metadata": {},
     "output_type": "execute_result"
    }
   ],
   "source": [
    "# Test it\n",
    "identify_vendor(vendor_list[0])"
   ]
  },
  {
   "cell_type": "code",
   "execution_count": 37,
   "metadata": {},
   "outputs": [],
   "source": [
    "vendors = []\n",
    "for mac_addr in vendor_list:\n",
    "    try:\n",
    "        vendor = identify_vendor(mac_addr)\n",
    "    except:\n",
    "        vendor = None\n",
    "        \n",
    "    vendors.append(vendor)"
   ]
  },
  {
   "cell_type": "code",
   "execution_count": 34,
   "metadata": {},
   "outputs": [
    {
     "data": {
      "text/plain": [
       "['Apple, Inc.',\n",
       " 'Intel Corporate',\n",
       " 'Samsung Electronics Co.,Ltd',\n",
       " 'Apple, Inc.',\n",
       " 'Murata Manufacturing Co., Ltd.',\n",
       " 'Apple, Inc.',\n",
       " 'Murata Manufacturing Co., Ltd.',\n",
       " 'Nokia Corporation',\n",
       " 'Samsung Electronics Co.,Ltd',\n",
       " 'Xiaomi Communications Co Ltd']"
      ]
     },
     "execution_count": 34,
     "metadata": {},
     "output_type": "execute_result"
    }
   ],
   "source": [
    "vendors[:10]"
   ]
  },
  {
   "cell_type": "code",
   "execution_count": 35,
   "metadata": {},
   "outputs": [
    {
     "data": {
      "text/plain": [
       "'Apple, Inc.'"
      ]
     },
     "execution_count": 35,
     "metadata": {},
     "output_type": "execute_result"
    }
   ],
   "source": [
    "vendor_mapping = dict(zip(vendor_list, vendors))\n",
    "vendor_mapping[vendor_list[0]]"
   ]
  },
  {
   "cell_type": "code",
   "execution_count": null,
   "metadata": {},
   "outputs": [],
   "source": [
    "client_mac = df['client_mac'][0]\n",
    "print(client_mac)\n",
    "print(vendor_list[0])\n",
    "\n",
    "def lookup_vendor(mac_addr):\n",
    "    first_three_chunks = \":\".join(mac_addr.split(\":\")[:3])\n",
    "    return vendor_mapping.get(first_three_chunks, None)\n",
    "\n",
    "lookup_vendor(client_mac)\n",
    "client_vendors = [lookup_vendor(client_mac) for client_mac in df['client_mac']]\n",
    "df['client_vendor'] = client_vendors"
   ]
  },
  {
   "cell_type": "code",
   "execution_count": 41,
   "metadata": {},
   "outputs": [],
   "source": [
    "filtered = df.dropna(how='any')"
   ]
  },
  {
   "cell_type": "code",
   "execution_count": 42,
   "metadata": {},
   "outputs": [
    {
     "data": {
      "text/plain": [
       "18747"
      ]
     },
     "execution_count": 42,
     "metadata": {},
     "output_type": "execute_result"
    }
   ],
   "source": [
    "df.shape[0] - filtered.shape[0]\n",
    "###THERE ARE 18,422 unidentified macs (vendors)"
   ]
  },
  {
   "cell_type": "markdown",
   "metadata": {},
   "source": [
    "## Experiment with vendors by count and representation"
   ]
  },
  {
   "cell_type": "code",
   "execution_count": 44,
   "metadata": {},
   "outputs": [],
   "source": [
    "all_vendors = filtered['client_vendor'].value_counts().index.tolist()\n",
    "top_vendors = all_vendors[:30]\n",
    "samsung = ['SAMSUNG ELECTRO-MECHANICS(THAILAND)', 'Samsung Electronics Co.,Ltd', 'SAMSUNG ELECTRO MECHANICS CO., LTD.']\n",
    "huawei = ['HUAWEI TECHNOLOGIES CO.,LTD']\n",
    "oneplus = ['OnePlus Tech (Shenzhen) Ltd']"
   ]
  },
  {
   "cell_type": "code",
   "execution_count": 141,
   "metadata": {},
   "outputs": [
    {
     "data": {
      "text/plain": [
       "['Apple, Inc.',\n",
       " 'Intel Corporate',\n",
       " 'SAMSUNG ELECTRO-MECHANICS(THAILAND)',\n",
       " 'Samsung Electronics Co.,Ltd',\n",
       " 'Murata Manufacturing Co., Ltd.',\n",
       " 'LG Electronics (Mobile Communications)',\n",
       " 'Motorola Mobility LLC, a Lenovo Company',\n",
       " 'HTC Corporation',\n",
       " 'HUAWEI TECHNOLOGIES CO.,LTD',\n",
       " 'zte corporation',\n",
       " 'Ruckus Wireless',\n",
       " 'Hon Hai Precision Ind. Co.,Ltd.',\n",
       " 'Liteon Technology Corporation',\n",
       " 'OnePlus Tech (Shenzhen) Ltd',\n",
       " 'Aerohive Networks Inc.',\n",
       " 'AzureWave Technology Inc.',\n",
       " 'Hewlett Packard',\n",
       " 'Sony Mobile Communications AB',\n",
       " 'SAMSUNG ELECTRO MECHANICS CO., LTD.',\n",
       " 'Zebra Technologies Inc',\n",
       " 'TCT mobile ltd',\n",
       " 'Amazon Technologies Inc.',\n",
       " 'ASUSTek COMPUTER INC.',\n",
       " 'COMPEX INCORPORATED',\n",
       " 'Wistron Neweb Corporation',\n",
       " 'Xiaomi Communications Co Ltd',\n",
       " 'Google, Inc.',\n",
       " 'Microsoft Mobile Oy',\n",
       " 'Chicony Electronics Co., Ltd.',\n",
       " 'Microsoft']"
      ]
     },
     "execution_count": 141,
     "metadata": {},
     "output_type": "execute_result"
    }
   ],
   "source": [
    "top_vendors"
   ]
  },
  {
   "cell_type": "code",
   "execution_count": null,
   "metadata": {},
   "outputs": [],
   "source": [
    "#select for useful vendors test with Apple\n",
    "filtered_apple =  filtered[filtered['client_vendor'].isin(['Apple, Inc.'])]\n",
    "filtered_apple.head()"
   ]
  },
  {
   "cell_type": "code",
   "execution_count": 46,
   "metadata": {},
   "outputs": [
    {
     "name": "stdout",
     "output_type": "stream",
     "text": [
      "(2764443, 8)\n"
     ]
    }
   ],
   "source": [
    "#select for useful vendors\n",
    "filtered_vendors =  filtered[filtered['client_vendor'].isin(top_vendors)]\n",
    "print filtered_vendors.shape"
   ]
  },
  {
   "cell_type": "code",
   "execution_count": 48,
   "metadata": {},
   "outputs": [],
   "source": [
    "filtered_group = df.groupby([df['client_vendor'], df['client_mac']]).size()"
   ]
  },
  {
   "cell_type": "code",
   "execution_count": 49,
   "metadata": {},
   "outputs": [],
   "source": [
    "def make_key(dtime):\n",
    "    return \"%02d:%02d\" % (dtime.hour, dtime.minute - (dtime.minute % 10))"
   ]
  },
  {
   "cell_type": "code",
   "execution_count": 52,
   "metadata": {},
   "outputs": [
    {
     "data": {
      "image/png": "[encoded data removed]",
      "text/plain": [
       "<matplotlib.figure.Figure at 0x7fec10c24390>"
      ]
     },
     "metadata": {},
     "output_type": "display_data"
    }
   ],
   "source": [
    "def show_daily_pings(df):\n",
    "    time_freqs = {}\n",
    "    for dtime in df['last_seen_dt']:\n",
    "        key = make_key(dtime)\n",
    "        time_freqs[key] = time_freqs.get(key, 0) + 1\n",
    "    \n",
    "    xs, ys = zip(*sorted(time_freqs.items()))\n",
    "\n",
    "    plt.plot(ys)\n",
    "    plt.show()\n",
    "    \n",
    "show_daily_pings(df)"
   ]
  },
  {
   "cell_type": "markdown",
   "metadata": {},
   "source": [
    "## Shift datetime in dataframe to represent EST"
   ]
  },
  {
   "cell_type": "code",
   "execution_count": 58,
   "metadata": {},
   "outputs": [],
   "source": [
    "shifted_date = [date - datetime.timedelta(hours = 4) for date in df['last_seen_dt']]"
   ]
  },
  {
   "cell_type": "code",
   "execution_count": 59,
   "metadata": {},
   "outputs": [
    {
     "name": "stderr",
     "output_type": "stream",
     "text": [
      "/opt/rh/anaconda/root/envs/PUI2016_Python2/lib/python2.7/site-packages/ipykernel/__main__.py:2: SettingWithCopyWarning: \n",
      "A value is trying to be set on a copy of a slice from a DataFrame.\n",
      "Try using .loc[row_indexer,col_indexer] = value instead\n",
      "\n",
      "See the caveats in the documentation: http://pandas.pydata.org/pandas-docs/stable/indexing.html#indexing-view-versus-copy\n",
      "  from ipykernel import kernelapp as app\n"
     ]
    }
   ],
   "source": [
    "filtered_apple['shifted_date'] = [date - datetime.timedelta(hours = 4) for date in filtered_apple['last_seen_dt']]"
   ]
  },
  {
   "cell_type": "code",
   "execution_count": 60,
   "metadata": {},
   "outputs": [
    {
     "name": "stderr",
     "output_type": "stream",
     "text": [
      "/opt/rh/anaconda/root/envs/PUI2016_Python2/lib/python2.7/site-packages/ipykernel/__main__.py:1: SettingWithCopyWarning: \n",
      "A value is trying to be set on a copy of a slice from a DataFrame.\n",
      "Try using .loc[row_indexer,col_indexer] = value instead\n",
      "\n",
      "See the caveats in the documentation: http://pandas.pydata.org/pandas-docs/stable/indexing.html#indexing-view-versus-copy\n",
      "  if __name__ == '__main__':\n"
     ]
    }
   ],
   "source": [
    "filtered_vendors['shifted_date'] = [date - datetime.timedelta(hours = 4) for date in filtered_vendors['last_seen_dt']]"
   ]
  },
  {
   "cell_type": "code",
   "execution_count": 61,
   "metadata": {},
   "outputs": [
    {
     "data": {
      "image/png": "[encoded data removed]",
      "text/plain": [
       "<matplotlib.figure.Figure at 0x7fec10dcac90>"
      ]
     },
     "metadata": {},
     "output_type": "display_data"
    }
   ],
   "source": [
    "show_daily_pings(filtered_vendors)"
   ]
  },
  {
   "cell_type": "code",
   "execution_count": 62,
   "metadata": {},
   "outputs": [],
   "source": [
    "def show_daily_pings(df):\n",
    "    time_freqs = {}\n",
    "    for dtime in df['shifted_date']:\n",
    "        key = make_key(dtime)\n",
    "        time_freqs[key] = time_freqs.get(key, 0) + 1\n",
    "    \n",
    "    xs, ys = zip(*sorted(time_freqs.items()))\n",
    "\n",
    "    plt.plot(ys)\n",
    "    plt.show()"
   ]
  },
  {
   "cell_type": "code",
   "execution_count": 63,
   "metadata": {},
   "outputs": [],
   "source": [
    "df['shifted_date'] = [date - datetime.timedelta(hours = 4) for date in df['last_seen_dt']]"
   ]
  },
  {
   "cell_type": "code",
   "execution_count": 64,
   "metadata": {},
   "outputs": [
    {
     "data": {
      "image/png": "[encoded data removed]",
      "text/plain": [
       "<matplotlib.figure.Figure at 0x7fec10bee710>"
      ]
     },
     "metadata": {},
     "output_type": "display_data"
    }
   ],
   "source": [
    "show_daily_pings(df)"
   ]
  },
  {
   "cell_type": "code",
   "execution_count": 65,
   "metadata": {},
   "outputs": [
    {
     "data": {
      "image/png": "[encoded data removed]",
      "text/plain": [
       "<matplotlib.figure.Figure at 0x7fec0d95edd0>"
      ]
     },
     "metadata": {},
     "output_type": "display_data"
    }
   ],
   "source": [
    "show_daily_pings(filtered_apple)"
   ]
  },
  {
   "cell_type": "code",
   "execution_count": 66,
   "metadata": {},
   "outputs": [],
   "source": [
    "filtered_samsung =  filtered[filtered['client_vendor'].isin(samsung)]"
   ]
  },
  {
   "cell_type": "code",
   "execution_count": 67,
   "metadata": {},
   "outputs": [
    {
     "name": "stderr",
     "output_type": "stream",
     "text": [
      "/opt/rh/anaconda/root/envs/PUI2016_Python2/lib/python2.7/site-packages/ipykernel/__main__.py:1: SettingWithCopyWarning: \n",
      "A value is trying to be set on a copy of a slice from a DataFrame.\n",
      "Try using .loc[row_indexer,col_indexer] = value instead\n",
      "\n",
      "See the caveats in the documentation: http://pandas.pydata.org/pandas-docs/stable/indexing.html#indexing-view-versus-copy\n",
      "  if __name__ == '__main__':\n"
     ]
    }
   ],
   "source": [
    "filtered_samsung['shifted_date'] = [date - datetime.timedelta(hours = 4) for date in filtered_samsung['last_seen_dt']]"
   ]
  },
  {
   "cell_type": "code",
   "execution_count": 68,
   "metadata": {},
   "outputs": [
    {
     "data": {
      "image/png": "[encoded data removed]",
      "text/plain": [
       "<matplotlib.figure.Figure at 0x7feb76ab6850>"
      ]
     },
     "metadata": {},
     "output_type": "display_data"
    }
   ],
   "source": [
    "show_daily_pings(filtered_samsung)\n"
   ]
  },
  {
   "cell_type": "code",
   "execution_count": 69,
   "metadata": {},
   "outputs": [],
   "source": [
    "filtered_huawei = filtered[filtered['client_vendor'].isin(huawei)]"
   ]
  },
  {
   "cell_type": "code",
   "execution_count": 70,
   "metadata": {},
   "outputs": [
    {
     "name": "stderr",
     "output_type": "stream",
     "text": [
      "/opt/rh/anaconda/root/envs/PUI2016_Python2/lib/python2.7/site-packages/ipykernel/__main__.py:1: SettingWithCopyWarning: \n",
      "A value is trying to be set on a copy of a slice from a DataFrame.\n",
      "Try using .loc[row_indexer,col_indexer] = value instead\n",
      "\n",
      "See the caveats in the documentation: http://pandas.pydata.org/pandas-docs/stable/indexing.html#indexing-view-versus-copy\n",
      "  if __name__ == '__main__':\n"
     ]
    }
   ],
   "source": [
    "filtered_huawei['shifted_date'] = [date - datetime.timedelta(hours = 4) for date in filtered_huawei['last_seen_dt']]"
   ]
  },
  {
   "cell_type": "code",
   "execution_count": 71,
   "metadata": {},
   "outputs": [
    {
     "data": {
      "image/png": "[encoded data removed]",
      "text/plain": [
       "<matplotlib.figure.Figure at 0x7fec10cf5090>"
      ]
     },
     "metadata": {},
     "output_type": "display_data"
    }
   ],
   "source": [
    "show_daily_pings(filtered_huawei)"
   ]
  },
  {
   "cell_type": "code",
   "execution_count": 144,
   "metadata": {},
   "outputs": [
    {
     "name": "stderr",
     "output_type": "stream",
     "text": [
      "/opt/rh/anaconda/root/envs/PUI2016_Python2/lib/python2.7/site-packages/ipykernel/__main__.py:2: SettingWithCopyWarning: \n",
      "A value is trying to be set on a copy of a slice from a DataFrame.\n",
      "Try using .loc[row_indexer,col_indexer] = value instead\n",
      "\n",
      "See the caveats in the documentation: http://pandas.pydata.org/pandas-docs/stable/indexing.html#indexing-view-versus-copy\n",
      "  from ipykernel import kernelapp as app\n"
     ]
    }
   ],
   "source": [
    "filtered_oneplus = filtered[filtered['client_vendor'].isin(oneplus)]\n",
    "filtered_oneplus['shifted_date'] = [date - datetime.timedelta(hours = 4) for date in filtered_oneplus['last_seen_dt']]"
   ]
  },
  {
   "cell_type": "code",
   "execution_count": 145,
   "metadata": {},
   "outputs": [
    {
     "data": {
      "image/png": "[encoded data removed]",
      "text/plain": [
       "<matplotlib.figure.Figure at 0x7f4f68dcddd0>"
      ]
     },
     "metadata": {},
     "output_type": "display_data"
    }
   ],
   "source": [
    "show_daily_pings(filtered_oneplus)\n",
    "#Chinese smartphones"
   ]
  },
  {
   "cell_type": "code",
   "execution_count": 147,
   "metadata": {},
   "outputs": [
    {
     "name": "stdout",
     "output_type": "stream",
     "text": [
      "(30407, 9)\n",
      "(60148, 9)\n",
      "(563345, 9)\n",
      "(620998, 9)\n"
     ]
    }
   ],
   "source": [
    "print filtered_oneplus.shape\n",
    "print filtered_huawei.shape\n",
    "print filtered_apple.shape\n",
    "print filtered_samsung.shape"
   ]
  },
  {
   "cell_type": "markdown",
   "metadata": {},
   "source": [
    "## Bot detection and extraction"
   ]
  },
  {
   "cell_type": "code",
   "execution_count": 80,
   "metadata": {},
   "outputs": [],
   "source": [
    "client_macs = list(df['client_mac'])\n",
    "ap_macs = list(df['ap_mac'])\n",
    "ping_times = list(df['last_seen_dt'])\n",
    "\n",
    "tuples = [((client_macs[i], ap_macs[i]), ping_times[i]) for i in range(len(client_macs))]\n",
    "tuples.sort(key = lambda (val, t): t)"
   ]
  },
  {
   "cell_type": "code",
   "execution_count": 57,
   "metadata": {},
   "outputs": [
    {
     "name": "stdout",
     "output_type": "stream",
     "text": [
      "0 days 00:00:00\n"
     ]
    }
   ],
   "source": [
    "shortest_reping = datetime.timedelta(days = 1)\n",
    "\n",
    "observances = {}\n",
    "for (client_ap_pair, ping_time) in tuples:\n",
    "    if client_ap_pair not in observances: \n",
    "        observances[client_ap_pair] = [ping_time]\n",
    "    else:\n",
    "        observances[client_ap_pair].append(ping_time)\n",
    "        reping_time = observances[client_ap_pair][-1] - observances[client_ap_pair][-2]\n",
    "        shortest_reping = min(shortest_reping, reping_time)\n",
    "\n",
    "print(shortest_reping)"
   ]
  },
  {
   "cell_type": "code",
   "execution_count": null,
   "metadata": {},
   "outputs": [],
   "source": [
    "print(shortest_reping.total_seconds())\n",
    "len(observances)\n",
    "sample_keys = observances.keys()[:10]\n",
    "for key in sample_keys:\n",
    "    print key, \": \", observances[key]"
   ]
  },
  {
   "cell_type": "markdown",
   "metadata": {},
   "source": [
    "## Bot detection mechanism-- setting frequency of pings in time window to mean nonhuman activity"
   ]
  },
  {
   "cell_type": "code",
   "execution_count": 74,
   "metadata": {},
   "outputs": [],
   "source": [
    "class IRollingWindowCounts(object):\n",
    "    # Don't actually instantiate this class. Use RollingWindowCounts below.\n",
    "    def __init__(self, tdelta):\n",
    "        \"\"\"\n",
    "        Initializes the object with some duration of time\n",
    "        For example, a 30 second window. tdelta is a timedelta object.\n",
    "        \"\"\"\n",
    "        raise NotImplementedError(\"To be implemented by subclass.\")\n",
    "\n",
    "    def insert(self, t, val):\n",
    "        \"\"\"\n",
    "        Insert a value val that occured at time t (a datetime).\n",
    "        Maybe you want to keep track of mac addresses.\n",
    "        \"\"\"\n",
    "        raise NotImplementedError(\"To be implemented by subclass.\")\n",
    "\n",
    "    def count(self, val):\n",
    "        \"\"\"\n",
    "        Count the number of times this val has been seen\n",
    "        in the last tdelta amount of time.\n",
    "        \"\"\"\n",
    "        raise NotImplementedError(\"To be implemented by subclass.\")"
   ]
  },
  {
   "cell_type": "code",
   "execution_count": 75,
   "metadata": {},
   "outputs": [],
   "source": [
    "\"\"\"\n",
    "For example, if you have a list of (client_mac, ping_time) tuples, you\n",
    "could detect bots with this code:\n",
    "\"\"\"\n",
    "import datetime\n",
    "def detect_bots(ping_tuples):\n",
    "    bots = {}\n",
    "    rolling_window = RollingWindowCounts(datetime.timedelta(seconds=60))\n",
    "    for (val, ping_time) in ping_tuples:\n",
    "        rolling_window.insert(ping_time, val)\n",
    "        if rolling_window.count(val) >= 2:\n",
    "            bots[val] = True\n",
    "\n",
    "    return bots.keys()\n",
    "        "
   ]
  },
  {
   "cell_type": "code",
   "execution_count": 76,
   "metadata": {},
   "outputs": [],
   "source": [
    "##### Implementation of the class #####\n",
    "from collections import deque\n",
    "class RollingWindowCounts(IRollingWindowCounts):\n",
    "    \"\"\"\n",
    "    A class that keeps track of the number of times objects have been\n",
    "    inserted into it in the past fixed amount of time. Inserts must be\n",
    "    in increasing time order.\n",
    "    \"\"\"\n",
    "    def __init__(self, tdelta):\n",
    "        self._tdelta = tdelta\n",
    "        self._counts = {} # val --> frequency\n",
    "        self._inserts = deque() # A deque of (t, val) tuples\n",
    "\n",
    "    def count(self, val):\n",
    "        return self._counts.get(val, 0)\n",
    "    \n",
    "    def insert(self, t, val):\n",
    "        self._inserts.append((t, val))\n",
    "        self._counts[val] = self._counts.get(val, 0) + 1\n",
    "\n",
    "        # Remove old items\n",
    "        old_t, old_val = self._pop_oldest()      \n",
    "        while t - old_t > self._tdelta:\n",
    "            old_t, old_val = self._pop_oldest()\n",
    "\n",
    "        self._inserts.appendleft((old_t, old_val))\n",
    "        self._counts[old_val] = self._counts.get(old_val, 0) + 1\n",
    "\n",
    "    def _pop_oldest(self):\n",
    "        \"\"\" Pops oldest (t, val) and updates _counts. \"\"\"\n",
    "        old_t, old_val = self._inserts.popleft()\n",
    "        self._counts[old_val] -= 1\n",
    "        if self._counts[old_val] == 0:\n",
    "            del self._counts[old_val]\n",
    "\n",
    "        return (old_t, old_val)"
   ]
  },
  {
   "cell_type": "code",
   "execution_count": 82,
   "metadata": {},
   "outputs": [],
   "source": [
    "bot_attempt = detect_bots(tuples)"
   ]
  },
  {
   "cell_type": "code",
   "execution_count": 83,
   "metadata": {},
   "outputs": [],
   "source": [
    "bot_60_10 = bot_attempt"
   ]
  },
  {
   "cell_type": "code",
   "execution_count": null,
   "metadata": {},
   "outputs": [],
   "source": [
    "new_df_test = df[~df.client_mac.isin(bot_60_10)]\n",
    "new_df_test2 = df[~df.client_mac.isin(bot_df_test)]"
   ]
  },
  {
   "cell_type": "code",
   "execution_count": null,
   "metadata": {},
   "outputs": [],
   "source": [
    "bot_df_test = [ seq[0] for seq in tmp_60_2 ]"
   ]
  },
  {
   "cell_type": "code",
   "execution_count": 87,
   "metadata": {},
   "outputs": [
    {
     "name": "stderr",
     "output_type": "stream",
     "text": [
      "/opt/rh/anaconda/root/envs/PUI2016_Python2/lib/python2.7/site-packages/ipykernel/__main__.py:1: SettingWithCopyWarning: \n",
      "A value is trying to be set on a copy of a slice from a DataFrame.\n",
      "Try using .loc[row_indexer,col_indexer] = value instead\n",
      "\n",
      "See the caveats in the documentation: http://pandas.pydata.org/pandas-docs/stable/indexing.html#indexing-view-versus-copy\n",
      "  if __name__ == '__main__':\n"
     ]
    }
   ],
   "source": [
    "new_df_test2['shifted_date'] = [date - datetime.timedelta(hours = 4) for date in new_df_test2['last_seen_dt']]"
   ]
  },
  {
   "cell_type": "markdown",
   "metadata": {},
   "source": [
    "## Plot of frequencies of non-bot clients (top) and bot clients (bottom)"
   ]
  },
  {
   "cell_type": "code",
   "execution_count": 91,
   "metadata": {},
   "outputs": [
    {
     "data": {
      "image/png": "[encoded data removed]",
      "text/plain": [
       "<matplotlib.figure.Figure at 0x7f1a0f9bc790>"
      ]
     },
     "metadata": {},
     "output_type": "display_data"
    }
   ],
   "source": [
    "show_daily_pings(new_df_test2)"
   ]
  },
  {
   "cell_type": "code",
   "execution_count": 92,
   "metadata": {
    "collapsed": true
   },
   "outputs": [],
   "source": [
    "new_df_test2_bot = df[df.client_mac.isin(bot_df_test)]"
   ]
  },
  {
   "cell_type": "code",
   "execution_count": 94,
   "metadata": {},
   "outputs": [
    {
     "data": {
      "image/png": "[encoded data removed]",
      "text/plain": [
       "<matplotlib.figure.Figure at 0x7f19cb7e5950>"
      ]
     },
     "metadata": {},
     "output_type": "display_data"
    }
   ],
   "source": [
    "show_daily_pings(new_df_test2_bot)"
   ]
  }
 ],
 "metadata": {
  "kernelspec": {
   "display_name": "PUI2016_Python2",
   "language": "python",
   "name": "pui2016_python2"
  },
  "language_info": {
   "codemirror_mode": {
    "name": "ipython",
    "version": 2
   },
   "file_extension": ".py",
   "mimetype": "text/x-python",
   "name": "python",
   "nbconvert_exporter": "python",
   "pygments_lexer": "ipython2",
   "version": "2.7.12"
  }
 },
 "nbformat": 4,
 "nbformat_minor": 1
}
